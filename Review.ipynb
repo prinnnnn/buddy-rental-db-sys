{
  "nbformat": 4,
  "nbformat_minor": 0,
  "metadata": {
    "colab": {
      "provenance": []
    },
    "kernelspec": {
      "name": "python3",
      "display_name": "Python 3"
    },
    "language_info": {
      "name": "python"
    }
  },
  "cells": [
    {
      "cell_type": "code",
      "source": [
        "!git clone https://github.com/prinnnnn/buddy-rental-db-sys.git"
      ],
      "metadata": {
        "colab": {
          "base_uri": "https://localhost:8080/"
        },
        "id": "RUoT52Nm4V9K",
        "outputId": "c581d32e-0999-461a-cf19-5add3ef05d22"
      },
      "execution_count": 7,
      "outputs": [
        {
          "output_type": "stream",
          "name": "stdout",
          "text": [
            "Cloning into 'buddy-rental-db-sys'...\n",
            "remote: Enumerating objects: 65, done.\u001b[K\n",
            "remote: Counting objects: 100% (65/65), done.\u001b[K\n",
            "remote: Compressing objects: 100% (48/48), done.\u001b[K\n",
            "remote: Total 65 (delta 31), reused 45 (delta 17), pack-reused 0 (from 0)\u001b[K\n",
            "Receiving objects: 100% (65/65), 1.07 MiB | 3.67 MiB/s, done.\n",
            "Resolving deltas: 100% (31/31), done.\n"
          ]
        }
      ]
    },
    {
      "cell_type": "code",
      "source": [
        "!pip install faker"
      ],
      "metadata": {
        "colab": {
          "base_uri": "https://localhost:8080/"
        },
        "id": "tXkCpE146ATx",
        "outputId": "462c30bd-4216-4ebb-ed82-8372e8099e7f"
      },
      "execution_count": 16,
      "outputs": [
        {
          "output_type": "stream",
          "name": "stdout",
          "text": [
            "Collecting faker\n",
            "  Downloading Faker-33.0.0-py3-none-any.whl.metadata (15 kB)\n",
            "Requirement already satisfied: python-dateutil>=2.4 in /usr/local/lib/python3.10/dist-packages (from faker) (2.8.2)\n",
            "Requirement already satisfied: typing-extensions in /usr/local/lib/python3.10/dist-packages (from faker) (4.12.2)\n",
            "Requirement already satisfied: six>=1.5 in /usr/local/lib/python3.10/dist-packages (from python-dateutil>=2.4->faker) (1.16.0)\n",
            "Downloading Faker-33.0.0-py3-none-any.whl (1.9 MB)\n",
            "\u001b[?25l   \u001b[90m━━━━━━━━━━━━━━━━━━━━━━━━━━━━━━━━━━━━━━━━\u001b[0m \u001b[32m0.0/1.9 MB\u001b[0m \u001b[31m?\u001b[0m eta \u001b[36m-:--:--\u001b[0m\r\u001b[2K   \u001b[91m━━━━━━━━━\u001b[0m\u001b[91m╸\u001b[0m\u001b[90m━━━━━━━━━━━━━━━━━━━━━━━━━━━━━━\u001b[0m \u001b[32m0.5/1.9 MB\u001b[0m \u001b[31m14.0 MB/s\u001b[0m eta \u001b[36m0:00:01\u001b[0m\r\u001b[2K   \u001b[91m━━━━━━━━━━━━━━━━━━━━━━━━━━━━━━━━━━━━━━━\u001b[0m\u001b[91m╸\u001b[0m \u001b[32m1.9/1.9 MB\u001b[0m \u001b[31m37.3 MB/s\u001b[0m eta \u001b[36m0:00:01\u001b[0m\r\u001b[2K   \u001b[90m━━━━━━━━━━━━━━━━━━━━━━━━━━━━━━━━━━━━━━━━\u001b[0m \u001b[32m1.9/1.9 MB\u001b[0m \u001b[31m25.5 MB/s\u001b[0m eta \u001b[36m0:00:00\u001b[0m\n",
            "\u001b[?25hInstalling collected packages: faker\n",
            "Successfully installed faker-33.0.0\n"
          ]
        }
      ]
    },
    {
      "cell_type": "code",
      "source": [
        "import random\n",
        "import scipy.stats as stats\n",
        "import json\n",
        "import pandas as pd\n",
        "from faker import Faker\n",
        "import datetime\n",
        "import random\n",
        "\n",
        "\n"
      ],
      "metadata": {
        "id": "QKCtc-eH3HDy"
      },
      "execution_count": 59,
      "outputs": []
    },
    {
      "cell_type": "code",
      "source": [
        "root = \"./buddy-rental-db-sys/\""
      ],
      "metadata": {
        "id": "xFEpbCRW4hkC"
      },
      "execution_count": 50,
      "outputs": []
    },
    {
      "cell_type": "code",
      "source": [
        "data = root + 'data/'\n",
        "buddy_data = data  + 'mock_data_buddy.csv'\n",
        "admin_data = data + 'mock_data_admin.csv'\n",
        "service_data = data + 'mock_data_service_record.csv'\n",
        "review_data = data + 'mock_data_review.csv'\n",
        "data"
      ],
      "metadata": {
        "colab": {
          "base_uri": "https://localhost:8080/",
          "height": 34
        },
        "id": "uxc6M-NZ4ruR",
        "outputId": "41e61810-c9b2-4fa6-e5d2-6f351cad4bb6"
      },
      "execution_count": 74,
      "outputs": [
        {
          "output_type": "execute_result",
          "data": {
            "text/plain": [
              "'./buddy-rental-db-sys/data/'"
            ],
            "application/vnd.google.colaboratory.intrinsic+json": {
              "type": "string"
            }
          },
          "metadata": {},
          "execution_count": 74
        }
      ]
    },
    {
      "cell_type": "code",
      "source": [
        "service_df = pd.read_csv(service_data).values\n",
        "service_ids = list(service_df[:, 0])\n",
        "for i in range (0,5):\n",
        "    print(service_ids[i])"
      ],
      "metadata": {
        "colab": {
          "base_uri": "https://localhost:8080/"
        },
        "id": "3Gc7rIaD3QmI",
        "outputId": "86b48719-182e-48ae-a9cd-1cd453b493e1"
      },
      "execution_count": 53,
      "outputs": [
        {
          "output_type": "stream",
          "name": "stdout",
          "text": [
            "15e778d6-07dd-49ad-82ee-43a9511b7d92\n",
            "9fdf992e-b5a1-4ab3-963d-7b163f2b0221\n",
            "d3b3fae3-ff52-492e-83b2-ec6c260005ed\n",
            "bc2f1de3-1716-4e61-8c01-13f1d77c569a\n",
            "95a255c0-bcea-4da4-ba8d-4e45d08585b9\n"
          ]
        }
      ]
    },
    {
      "cell_type": "code",
      "source": [
        "def save_to_csv(data, base_filename=\"mock_data\"):\n",
        "    pd.DataFrame(data).to_csv(f\"./buddy-rental-db-sys/data/{base_filename}_admin.csv\", index=False, header=False)\n",
        "    print(f\"Data saved to ./data/{base_filename}_{table_name}.csv\")"
      ],
      "metadata": {
        "id": "tDHsdWQGA5Z4"
      },
      "execution_count": 68,
      "outputs": []
    },
    {
      "cell_type": "code",
      "source": [
        "faker = Faker()\n",
        "\n",
        "def generate_mock_review(service_id):\n",
        "\n",
        "    return {\n",
        "        \"service_id\": service_id,\n",
        "        \"review_id\": faker.uuid4(),\n",
        "        'timestamp': datetime.datetime.now().__str__(),\n",
        "        'rating' : random.randint(0,5),\n",
        "        \"description\": \"LOREM\",\n",
        "    }\n",
        "\n",
        "def generate_batches_admin(service_ids):\n",
        "    return [generate_mock_review(sid) for sid in service_ids]"
      ],
      "metadata": {
        "id": "_1k8yghI7nve"
      },
      "execution_count": 61,
      "outputs": []
    },
    {
      "cell_type": "code",
      "source": [
        "# save_to_csv(generate_batches_admin(service_ids), \"mock_data_review\")\n",
        "pd.DataFrame(generate_batches_admin(service_ids)).to_csv(f\"./buddy-rental-db-sys/data/mock_data_review.csv\", index=False, header=False)"
      ],
      "metadata": {
        "id": "SVv2dFaRAB-Z"
      },
      "execution_count": 70,
      "outputs": []
    },
    {
      "cell_type": "code",
      "source": [
        "review_df = pd.read_csv(review_data)\n",
        "print(review_df.iloc[1])"
      ],
      "metadata": {
        "colab": {
          "base_uri": "https://localhost:8080/"
        },
        "id": "J3LyzGJZAxXl",
        "outputId": "98c04af3-756f-4049-bcd6-e17c7e8bfa8b"
      },
      "execution_count": 79,
      "outputs": [
        {
          "output_type": "stream",
          "name": "stdout",
          "text": [
            "15e778d6-07dd-49ad-82ee-43a9511b7d92    d3b3fae3-ff52-492e-83b2-ec6c260005ed\n",
            "a76fb18b-73cf-4334-b57c-7baafa9b2d9a    9d005d6b-a8a2-44e0-ba7d-4aabd4bfd337\n",
            "2024-11-16 17:30:15.536892                        2024-11-16 17:30:15.536984\n",
            "1                                                                          1\n",
            "LOREM                                                                  LOREM\n",
            "Name: 1, dtype: object\n"
          ]
        }
      ]
    },
    {
      "cell_type": "code",
      "source": [],
      "metadata": {
        "id": "YhSefcpDB578"
      },
      "execution_count": null,
      "outputs": []
    },
    {
      "cell_type": "markdown",
      "source": [],
      "metadata": {
        "id": "1xjKgJJxCmGS"
      }
    }
  ]
}